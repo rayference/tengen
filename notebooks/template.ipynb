{
 "cells": [
  {
   "cell_type": "markdown",
   "metadata": {},
   "source": [
    "# Title"
   ]
  },
  {
   "cell_type": "markdown",
   "metadata": {},
   "source": [
    "## Setup"
   ]
  },
  {
   "cell_type": "code",
   "execution_count": null,
   "metadata": {},
   "outputs": [],
   "source": [
    "# Imports (add your imports here)\n",
    "\n",
    "import os\n",
    "import tempfile\n",
    "import typing as t\n",
    "\n",
    "import xarray as xr\n",
    "\n",
    "import tengen\n",
    "\n",
    "# Dataset attributes (provide your dataset attributes here)\n",
    "\n",
    "IDENTIFIER = \"\"  # unique identifier for the dataset in the cache\n",
    "RAW_DATA_URL = \"\"  # URL where the raw data can be downloaded from\n",
    "TITLE = \"\"  # A succinct description of what is in the dataset\n",
    "INSTITUTION = \"\"  # Specifies where the original data was produced\n",
    "SOURCE = \"\"  # The method of production of the original data\n",
    "REFERENCES = \"\"  # Published or web-based references that describe the data or methods used to produce it\n",
    "\n",
    "\n",
    "# Notebook configuration\n",
    "\n",
    "UPDATE_CACHE = False  # change to True to update the cache when running this notebook"
   ]
  },
  {
   "cell_type": "markdown",
   "metadata": {},
   "source": [
    "## Raw data download"
   ]
  },
  {
   "cell_type": "code",
   "execution_count": null,
   "metadata": {},
   "outputs": [],
   "source": [
    "# provide the implementation of this function\n",
    "\n",
    "def download_raw_data(url: str, path: t.Optional[os.PathLike] = None) -> None:  # replace t.Any with appropriate type\n",
    "    \"\"\"Download raw data from url.\n",
    "\n",
    "    Args:\n",
    "        url: URL to download data from.\n",
    "        path: Path to save data to. If None, the data is saved to (a) temporary\n",
    "            file(s).\n",
    "    \"\"\"\n",
    "    pass"
   ]
  },
  {
   "cell_type": "markdown",
   "metadata": {},
   "source": [
    "## Raw data formatting"
   ]
  },
  {
   "cell_type": "code",
   "execution_count": null,
   "metadata": {},
   "outputs": [],
   "source": [
    "# Provide the implementation of this function\n",
    "\n",
    "def format_raw_data(\n",
    "    raw_data: os.PathLike,\n",
    "    path: t.Optional[os.PathLike] = None,\n",
    ") ->  t.Optional[xr.Dataset]:  # replace with t.List[xr.Dataset] if multiple datasets are created\n",
    "    \"\"\"Format raw data.\n",
    "\n",
    "    Args:\n",
    "        raw_data: Path to raw data directory.\n",
    "        path: Directory to save formatted data to. If None, the dataset(s) are\n",
    "            returned\n",
    "\n",
    "    Returns:\n",
    "        Formatted data or None.\n",
    "    \"\"\"\n",
    "    pass"
   ]
  },
  {
   "cell_type": "markdown",
   "metadata": {},
   "source": [
    "## Run"
   ]
  },
  {
   "cell_type": "code",
   "execution_count": null,
   "metadata": {},
   "outputs": [],
   "source": [
    "# (leave this cell as is)\n",
    "\n",
    "if UPDATE_CACHE:\n",
    "    raw_data_dir = tengen.RAW_DATA_DIR / IDENTIFIER\n",
    "    raw_data_dir.mkdir(parents=True, exist_ok=True)\n",
    "    formatted_data_dir = tengen.FORMATTED_DATA_DIR / IDENTIFIER\n",
    "    formatted_data_dir.mkdir(parents=True, exist_ok=True)\n",
    "\n",
    "    download_raw_data(\n",
    "        url=RAW_DATA_URL,\n",
    "        path=raw_data_dir,\n",
    "    )\n",
    "    format_raw_data(\n",
    "        raw_data=raw_data_dir,\n",
    "        path=formatted_data_dir,\n",
    "    )\n",
    "\n",
    "else:\n",
    "    with tempfile.TemporaryDirectory() as tmpdir:\n",
    "        download_raw_data(\n",
    "            url=RAW_DATA_URL,\n",
    "            path=tmpdir,\n",
    "        )\n",
    "        dataset = format_raw_data(\n",
    "            raw_data=tmpdir,\n",
    "            path=None,\n",
    "        )"
   ]
  }
 ],
 "metadata": {
  "kernelspec": {
   "display_name": "Python 3.8.13 ('tengen')",
   "language": "python",
   "name": "python3"
  },
  "language_info": {
   "name": "python",
   "version": "3.8.13"
  },
  "vscode": {
   "interpreter": {
    "hash": "2d2d83a8f2df0639f36d4cb071992b55f90f953abd83315b346d889f6b3fbf4f"
   }
  }
 },
 "nbformat": 4,
 "nbformat_minor": 2
}
