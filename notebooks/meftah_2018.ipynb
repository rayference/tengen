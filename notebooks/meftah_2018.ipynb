{
 "cells": [
  {
   "cell_type": "markdown",
   "metadata": {},
   "source": [
    "# Meftah, 2018"
   ]
  },
  {
   "cell_type": "markdown",
   "metadata": {},
   "source": [
    "## Setup"
   ]
  },
  {
   "cell_type": "code",
   "execution_count": null,
   "metadata": {},
   "outputs": [],
   "source": [
    "# Imports\n",
    "\n",
    "import datetime\n",
    "import os\n",
    "from pathlib import Path\n",
    "import tempfile\n",
    "import typing as t\n",
    "import zlib\n",
    "\n",
    "import numpy as np\n",
    "import requests\n",
    "import xarray as xr\n",
    "\n",
    "import tengen\n",
    "from tengen import unit_registry as ureg\n",
    "\n",
    "\n",
    "# Dataset attributes\n",
    "\n",
    "IDENTIFIER = \"meftah_2018\"\n",
    "RAW_DATA_URL = \"http://cdsarc.u-strasbg.fr/ftp/J/A+A/611/A1/spectrum.dat.gz\"\n",
    "TITLE = \"Meftah et al (2018) solar irradiance reference spectrum\"\n",
    "INSTITUTION = \"CNRS, LATMOS, Université Paris Saclay, Université Pierre et Marie Curie, UVSQ, INSU, IPSL, 75005 Paris, France\"\n",
    "SOURCE = \"Observations from the SOLSPEC instrument of the SOLAR payload onboard the international space station\"\n",
    "REFERENCES=\"https://doi.org/10.1051/0004-6361/201731316\"\n",
    "\n",
    "\n",
    "# Notebook configuration\n",
    "\n",
    "UPDATE_CACHE = False  # change to True to update the cache when running this notebook"
   ]
  },
  {
   "cell_type": "markdown",
   "metadata": {},
   "source": [
    "## Raw data download"
   ]
  },
  {
   "cell_type": "code",
   "execution_count": null,
   "metadata": {},
   "outputs": [],
   "source": [
    "FILE = \"spectrum.dat\"\n",
    "\n",
    "def download_raw_data(url: str, path: t.Optional[os.PathLike] = None) -> None:\n",
    "    \"\"\"Download raw data from url.\n",
    "\n",
    "    Args:\n",
    "        url: URL to download data from.\n",
    "        path: Path to save data to. If None, the data is saved to (a) temporary\n",
    "            file(s).\n",
    "    \"\"\"\n",
    "    response = requests.get(RAW_DATA_URL)\n",
    "    raw_data = zlib.decompress(response.content, 32)\n",
    "\n",
    "    if path is None:\n",
    "        tmpdir = tempfile.TemporaryDirectory()\n",
    "        path = Path(tmpdir.name)\n",
    "    else:\n",
    "        path = Path(path)\n",
    "        path.mkdir(parents=True, exist_ok=True)\n",
    "    \n",
    "    filename = FILE\n",
    "    with open(path / filename, \"wb\") as f:\n",
    "        f.write(raw_data)"
   ]
  },
  {
   "cell_type": "markdown",
   "metadata": {},
   "source": [
    "## Raw data formatting"
   ]
  },
  {
   "cell_type": "code",
   "execution_count": null,
   "metadata": {},
   "outputs": [],
   "source": [
    "def format_raw_data(\n",
    "    raw_data: os.PathLike,\n",
    "    path: t.Optional[os.PathLike] = None,\n",
    ") ->  t.Optional[xr.Dataset]:\n",
    "    \"\"\"Format raw data.\n",
    "\n",
    "    Args:\n",
    "        raw_data: Path to raw data directory.\n",
    "        path: Directory to save formatted data to. If None, the dataset is\n",
    "            returned\n",
    "\n",
    "    Returns:\n",
    "        Formatted data or None.\n",
    "    \"\"\"\n",
    "    file = Path(raw_data) / FILE\n",
    "    # read raw data\n",
    "    data = np.genfromtxt(\n",
    "        fname=file,\n",
    "        missing_values=\"---\",\n",
    "        filling_values=np.nan,\n",
    "    )\n",
    "\n",
    "    wavelength = data[:, 0]\n",
    "    spectral_irradiance = data[:, 1]\n",
    "\n",
    "    # The raw data covers the 0.5 to 3000.10 nm range whereas the range\n",
    "    # indicated by Meftah (2018) in:\n",
    "    # https://doi.org/10.1051/0004-6361/201731316\n",
    "    # is 165 to 3000 nm.\n",
    "    # Therefore, we ignore wavelengthes < 165, and keep the 3000.10 nm point.\n",
    "    mask = wavelength >= 165.0\n",
    "    \n",
    "    w = wavelength[mask] * ureg.nm\n",
    "    ssi = spectral_irradiance[mask] * ureg.W / ureg.m ** 2 / ureg.nm\n",
    "\n",
    "    start = datetime.date(2008, 4, 5)\n",
    "    end = datetime.date(2016, 12, 31)\n",
    "    observation_period=\" to \".join(\n",
    "        [x.strftime(\"%Y-%m-%d\") for x in [start, end]]\n",
    "    )\n",
    "\n",
    "    ds = tengen.to_dataset(\n",
    "        ssi=ssi,\n",
    "        w=w,\n",
    "        data_url=RAW_DATA_URL,\n",
    "        attrs={\n",
    "            \"title\": TITLE,\n",
    "            \"institution\": INSTITUTION,\n",
    "            \"source\": SOURCE,\n",
    "            \"references\": REFERENCES,\n",
    "            \"observation_period\": observation_period,\n",
    "        },\n",
    "    )\n",
    "\n",
    "    if path is not None:\n",
    "        filename = f\"{IDENTIFIER}.nc\"\n",
    "        ds.to_netcdf(path / filename)\n",
    "    else:\n",
    "        return ds"
   ]
  },
  {
   "cell_type": "markdown",
   "metadata": {},
   "source": [
    "## Run"
   ]
  },
  {
   "cell_type": "code",
   "execution_count": null,
   "metadata": {},
   "outputs": [],
   "source": [
    "# (leave this cell as is)\n",
    "\n",
    "if UPDATE_CACHE:\n",
    "    raw_data_dir = tengen.RAW_DATA_DIR / IDENTIFIER\n",
    "    raw_data_dir.mkdir(parents=True, exist_ok=True)\n",
    "    formatted_data_dir = tengen.FORMATTED_DATA_DIR / IDENTIFIER\n",
    "    formatted_data_dir.mkdir(parents=True, exist_ok=True)\n",
    "\n",
    "    download_raw_data(\n",
    "        url=RAW_DATA_URL,\n",
    "        path=raw_data_dir,\n",
    "    )\n",
    "    format_raw_data(\n",
    "        raw_data=raw_data_dir,\n",
    "        path=formatted_data_dir,\n",
    "    )\n",
    "\n",
    "else:\n",
    "    with tempfile.TemporaryDirectory() as tmpdir:\n",
    "        download_raw_data(\n",
    "            url=RAW_DATA_URL,\n",
    "            path=tmpdir,\n",
    "        )\n",
    "        dataset = format_raw_data(\n",
    "            raw_data=tmpdir,\n",
    "            path=None,\n",
    "        )"
   ]
  }
 ],
 "metadata": {
  "kernelspec": {
   "display_name": "Python 3.8.13 ('tengen')",
   "language": "python",
   "name": "python3"
  },
  "language_info": {
   "codemirror_mode": {
    "name": "ipython",
    "version": 3
   },
   "file_extension": ".py",
   "mimetype": "text/x-python",
   "name": "python",
   "nbconvert_exporter": "python",
   "pygments_lexer": "ipython3",
   "version": "3.8.13"
  },
  "vscode": {
   "interpreter": {
    "hash": "2d2d83a8f2df0639f36d4cb071992b55f90f953abd83315b346d889f6b3fbf4f"
   }
  }
 },
 "nbformat": 4,
 "nbformat_minor": 2
}
