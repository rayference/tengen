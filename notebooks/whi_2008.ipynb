{
 "cells": [
  {
   "cell_type": "markdown",
   "metadata": {},
   "source": [
    "# WHI, 2008"
   ]
  },
  {
   "cell_type": "markdown",
   "metadata": {},
   "source": [
    "## Setup"
   ]
  },
  {
   "cell_type": "code",
   "execution_count": null,
   "metadata": {},
   "outputs": [],
   "source": [
    "# Imports\n",
    "\n",
    "from datetime import date\n",
    "import os\n",
    "import tempfile\n",
    "import typing as t\n",
    "from pathlib import Path\n",
    "\n",
    "import numpy as np\n",
    "import requests\n",
    "import xarray as xr\n",
    "\n",
    "import tengen\n",
    "from tengen import unit_registry as ureg\n",
    "\n",
    "\n",
    "# Dataset attributes\n",
    "\n",
    "IDENTIFIER = \"whi_2008\"\n",
    "DATA_URL = \"https://lasp.colorado.edu/lisird/resources/whi_ref_spectra/data/ref_solar_irradiance_whi-2008_ver2.dat\"\n",
    "TITLE = \"Whole Heliosphere Interval (WHI) solar irradiance reference spectrum (2008)\"\n",
    "INSTITUTION = \"Laboratory for Atmospheric and Space Physics, University of Colorado, Boulder, Colorado, USA\"\n",
    "SOURCE = \"Combination of satellite observations from the SEE and SORCE instruments onboard the TIMED satellite and a prototype EVE instrument onboard a sounding rocket launched on 2008-04-14.\"\n",
    "REFERENCES = \"https://doi.org/10.1029/2008GL036373\"\n",
    "\n",
    "# Notebook configuration\n",
    "\n",
    "UPDATE_CACHE = False  # change to True to update the cache when running this notebook"
   ]
  },
  {
   "cell_type": "markdown",
   "metadata": {},
   "source": [
    "## Download"
   ]
  },
  {
   "cell_type": "code",
   "execution_count": null,
   "metadata": {},
   "outputs": [],
   "source": [
    "FILE = \"ref_solar_irradiance_whi-2008_ver2.dat\"\n",
    "\n",
    "def download(url: str, path: t.Optional[os.PathLike] = None) -> None:\n",
    "    \"\"\"Download original data from url.\n",
    "\n",
    "    Args:\n",
    "        url: URL to download data from.\n",
    "        path: Path to save data to. If None, the data is saved to (a) temporary\n",
    "            file(s).\n",
    "    \"\"\"\n",
    "    response = requests.get(url)\n",
    "    raw_data = response.content\n",
    "\n",
    "    if path is None:\n",
    "        tmpdir = tempfile.TemporaryDirectory()\n",
    "        path = Path(tmpdir.name)\n",
    "    else:\n",
    "        path = Path(path)\n",
    "        path.mkdir(parents=True, exist_ok=True)\n",
    "    \n",
    "    with open(path / FILE, \"wb\") as f:\n",
    "        f.write(raw_data)"
   ]
  },
  {
   "cell_type": "markdown",
   "metadata": {},
   "source": [
    "## Format"
   ]
  },
  {
   "cell_type": "code",
   "execution_count": null,
   "metadata": {},
   "outputs": [],
   "source": [
    "WHI_2008_TIME_PERIOD = {\n",
    "    \"sunspot active\": (date(2008, 3, 25), date(2008, 3, 29)),\n",
    "    \"faculae active\": (date(2008, 3, 29), date(2008, 4, 4)),\n",
    "    \"quiet sun\": (date(2008, 4, 10), date(2008, 4, 16)),\n",
    "}\n",
    "\n",
    "def format(\n",
    "    data: os.PathLike,\n",
    "    path: t.Optional[os.PathLike] = None,\n",
    ") ->  t.Optional[t.List[xr.Dataset]]:\n",
    "    \"\"\"Format original data.\n",
    "\n",
    "    Args:\n",
    "        data: Path to original data directory.\n",
    "        path: Directory to save formatted data to. If None, the dataset is\n",
    "            returned\n",
    "\n",
    "    Returns:\n",
    "        Formatted data or None.\n",
    "    \"\"\"\n",
    "    data = Path(data)\n",
    "    \n",
    "    if path is None:\n",
    "        datasets = []\n",
    "    else:\n",
    "        path = Path(path)\n",
    "        if not path.is_dir():\n",
    "            raise ValueError(f\"Path must be a directory (got {path}).\")\n",
    "        path.mkdir(parents=True, exist_ok=True)\n",
    "    \n",
    "    data = np.loadtxt(\n",
    "        fname=data / FILE,\n",
    "        comments=\";\",\n",
    "        skiprows=142,\n",
    "    )\n",
    "\n",
    "    wavelength = data[:, 0]\n",
    "    datasets = []\n",
    "    for identifier, (start, end) in WHI_2008_TIME_PERIOD.items():\n",
    "        time_period_index = list(WHI_2008_TIME_PERIOD.keys()).index(identifier)\n",
    "        dataset = tengen.to_dataset(\n",
    "            ssi=data[:, time_period_index] * ureg.W / ureg.m ** 2 / ureg.nm,\n",
    "            w=wavelength * ureg.nm,\n",
    "            data_url=DATA_URL,\n",
    "            attrs={\n",
    "                \"title\": TITLE + f\" ({identifier})\",\n",
    "                \"institution\": INSTITUTION,\n",
    "                \"source\": SOURCE,\n",
    "                \"references\": REFERENCES,\n",
    "                \"observation_period\": \" to \".join(\n",
    "                    [x.strftime(\"%Y-%m-%d\") for x in [start, end]]\n",
    "                ),\n",
    "            },\n",
    "        )\n",
    "        if path is not None:\n",
    "            resolution = f\"{identifier}\".replace(\" \", \"_\")\n",
    "            filename = os.path.join(path, f\"{IDENTIFIER}-{resolution}.nc\")\n",
    "            dataset.to_netcdf(filename)\n",
    "        else:\n",
    "            datasets.append(dataset)\n",
    "    \n",
    "    if path is None:\n",
    "        return datasets"
   ]
  },
  {
   "cell_type": "markdown",
   "metadata": {},
   "source": [
    "## Run"
   ]
  },
  {
   "cell_type": "code",
   "execution_count": null,
   "metadata": {},
   "outputs": [],
   "source": [
    "# (leave this cell as is)\n",
    "\n",
    "if UPDATE_CACHE:\n",
    "\n",
    "    original_data_dir = tengen.RAW_DATA_DIR / IDENTIFIER\n",
    "    original_data_dir.mkdir(parents=True, exist_ok=True)\n",
    "\n",
    "    download(url=DATA_URL, path=original_data_dir)\n",
    "\n",
    "    formatted_data_dir = tengen.FORMATTED_DATA_DIR / IDENTIFIER\n",
    "    formatted_data_dir.mkdir(parents=True, exist_ok=True)\n",
    "\n",
    "    format(data=original_data_dir, path=formatted_data_dir)\n",
    "\n",
    "else:\n",
    "    with tempfile.TemporaryDirectory() as tmpdir:\n",
    "        download(url=DATA_URL, path=tmpdir)\n",
    "        dataset = format(data=tmpdir, path=None)"
   ]
  }
 ],
 "metadata": {
  "kernelspec": {
   "display_name": "Python 3.8.13 ('tengen')",
   "language": "python",
   "name": "python3"
  },
  "language_info": {
   "codemirror_mode": {
    "name": "ipython",
    "version": 3
   },
   "file_extension": ".py",
   "mimetype": "text/x-python",
   "name": "python",
   "nbconvert_exporter": "python",
   "pygments_lexer": "ipython3",
   "version": "3.8.13"
  },
  "vscode": {
   "interpreter": {
    "hash": "2d2d83a8f2df0639f36d4cb071992b55f90f953abd83315b346d889f6b3fbf4f"
   }
  }
 },
 "nbformat": 4,
 "nbformat_minor": 2
}
