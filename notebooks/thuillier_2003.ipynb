{
 "cells": [
  {
   "cell_type": "markdown",
   "metadata": {},
   "source": [
    "# Thuillier, 2003"
   ]
  },
  {
   "cell_type": "markdown",
   "metadata": {},
   "source": [
    "## Setup"
   ]
  },
  {
   "cell_type": "code",
   "execution_count": null,
   "metadata": {},
   "outputs": [],
   "source": [
    "# Imports\n",
    "\n",
    "import os\n",
    "from pathlib import Path\n",
    "import tempfile\n",
    "import typing as t\n",
    "\n",
    "import numpy as np\n",
    "import requests\n",
    "import xarray as xr\n",
    "\n",
    "import tengen\n",
    "from tengen import unit_registry as ureg\n",
    "\n",
    "\n",
    "# Dataset attributes\n",
    "\n",
    "IDENTIFIER = \"thuillier_2003\"  # unique identifier for the dataset in the cache\n",
    "RAW_DATA_URL = \"https://oceancolor.gsfc.nasa.gov/docs/rsr/f0.txt\"\n",
    "TITLE = \"Thuillier (2003) solar irradiance spectrum\"\n",
    "INSTITUTION = \"Service d'Aéronomie du CNRS, F91371, Verrières-le-Buisson, France.\"\n",
    "SOURCE = \"Combined observations from the SOLSPEC instrument during the ATLAS-1 mission (from 1992-03-24 to 1992-04-02) and the SOSP instrument onboard the EURECA satellite (from 1992-8-7 to 1993-7-1), with the Kurucz and Bell (1995) synthetic spectrum.\"\n",
    "REFERENCES=\"https://doi.org/10.1023/A:1024048429145\"\n",
    "\n",
    "\n",
    "# Notebook configuration\n",
    "\n",
    "UPDATE_CACHE = False  # change to True to update the cache when running this notebook"
   ]
  },
  {
   "cell_type": "markdown",
   "metadata": {},
   "source": [
    "## Raw data download"
   ]
  },
  {
   "cell_type": "code",
   "execution_count": null,
   "metadata": {},
   "outputs": [],
   "source": [
    "FILE = \"f0.txt\"\n",
    "\n",
    "def download_raw_data(url: str, path: t.Optional[os.PathLike] = None) -> None:  # replace t.Any with appropriate type\n",
    "    \"\"\"Download raw data from url.\n",
    "\n",
    "    Args:\n",
    "        url: URL to download data from.\n",
    "        path: Path to save data to. If None, the data is saved to a temporary\n",
    "            file.\n",
    "    \"\"\"\n",
    "    response = requests.get(url)\n",
    "    raw_data = response.content\n",
    "\n",
    "    if path is None:\n",
    "        tmpdir = tempfile.TemporaryDirectory()\n",
    "        path = Path(tmpdir.name)\n",
    "    else:\n",
    "        path = Path(path)\n",
    "        path.mkdir(parents=True, exist_ok=True)\n",
    "    \n",
    "    with open(path / FILE, \"wb\") as f:\n",
    "        f.write(raw_data)"
   ]
  },
  {
   "cell_type": "markdown",
   "metadata": {},
   "source": [
    "## Raw data formatting"
   ]
  },
  {
   "cell_type": "code",
   "execution_count": null,
   "metadata": {},
   "outputs": [],
   "source": [
    "def format_raw_data(\n",
    "    raw_data: os.PathLike,\n",
    "    path: t.Optional[os.PathLike] = None,\n",
    ") ->  t.Optional[xr.Dataset]:\n",
    "    \"\"\"Format raw data.\n",
    "\n",
    "    Args:\n",
    "        raw_data: Path to raw data directory.\n",
    "        path: Directory to save formatted data to. If None, the dataset is\n",
    "            returned\n",
    "\n",
    "    Returns:\n",
    "        Formatted data or None.\n",
    "    \"\"\"\n",
    "    file = Path(raw_data) / FILE\n",
    "\n",
    "    data = np.loadtxt(\n",
    "        fname=file,\n",
    "        comments=[\"/\", \"!\"],\n",
    "        encoding=\"latin-1\",\n",
    "    )\n",
    "    w = data[:, 0] * ureg.nm\n",
    "    ssi = data[:, 1] * ureg.microwatt / ureg.cm ** 2 / ureg.nm\n",
    "\n",
    "    ds = tengen.to_dataset(\n",
    "        w=w,\n",
    "        ssi=ssi,\n",
    "        data_url=RAW_DATA_URL,\n",
    "        attrs={\n",
    "            \"Conventions\": \"CF-1.10\",\n",
    "            \"title\": TITLE,\n",
    "            \"institution\": INSTITUTION,\n",
    "            \"source\": SOURCE,\n",
    "            \"references\": REFERENCES,\n",
    "        },\n",
    "    )\n",
    "\n",
    "    if path is not None:\n",
    "        filename = f\"{IDENTIFIER}.nc\"\n",
    "        ds.to_netcdf(path / filename)\n",
    "    else:\n",
    "        return ds"
   ]
  },
  {
   "cell_type": "markdown",
   "metadata": {},
   "source": [
    "## Run"
   ]
  },
  {
   "cell_type": "code",
   "execution_count": null,
   "metadata": {},
   "outputs": [],
   "source": [
    "# (leave this cell as is)\n",
    "\n",
    "if UPDATE_CACHE:\n",
    "    raw_data_dir = tengen.RAW_DATA_DIR / IDENTIFIER\n",
    "    raw_data_dir.mkdir(parents=True, exist_ok=True)\n",
    "    formatted_data_dir = tengen.FORMATTED_DATA_DIR / IDENTIFIER\n",
    "    formatted_data_dir.mkdir(parents=True, exist_ok=True)\n",
    "\n",
    "    download_raw_data(\n",
    "        url=RAW_DATA_URL,\n",
    "        path=raw_data_dir,\n",
    "    )\n",
    "    format_raw_data(\n",
    "        raw_data=raw_data_dir,\n",
    "        path=formatted_data_dir,\n",
    "    )\n",
    "\n",
    "else:\n",
    "    with tempfile.TemporaryDirectory() as tmpdir:\n",
    "        download_raw_data(\n",
    "            url=RAW_DATA_URL,\n",
    "            path=tmpdir,\n",
    "        )\n",
    "        dataset = format_raw_data(\n",
    "            raw_data=tmpdir,\n",
    "            path=None,\n",
    "        )"
   ]
  }
 ],
 "metadata": {
  "kernelspec": {
   "display_name": "Python 3.8.13 ('tengen')",
   "language": "python",
   "name": "python3"
  },
  "language_info": {
   "codemirror_mode": {
    "name": "ipython",
    "version": 3
   },
   "file_extension": ".py",
   "mimetype": "text/x-python",
   "name": "python",
   "nbconvert_exporter": "python",
   "pygments_lexer": "ipython3",
   "version": "3.8.13"
  },
  "vscode": {
   "interpreter": {
    "hash": "2d2d83a8f2df0639f36d4cb071992b55f90f953abd83315b346d889f6b3fbf4f"
   }
  }
 },
 "nbformat": 4,
 "nbformat_minor": 2
}
