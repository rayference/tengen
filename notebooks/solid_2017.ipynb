{
 "cells": [
  {
   "cell_type": "markdown",
   "metadata": {},
   "source": [
    "# SOLID, 2017"
   ]
  },
  {
   "cell_type": "markdown",
   "metadata": {},
   "source": [
    "## Setup"
   ]
  },
  {
   "cell_type": "code",
   "execution_count": null,
   "metadata": {},
   "outputs": [],
   "source": [
    "# Imports\n",
    "\n",
    "import os\n",
    "import pathlib\n",
    "import shutil\n",
    "import tempfile\n",
    "import typing as t\n",
    "import urllib.request\n",
    "from contextlib import closing\n",
    "from datetime import date, timedelta\n",
    "\n",
    "import pandas as pd\n",
    "import xarray as xr\n",
    "\n",
    "import tengen\n",
    "from tengen import unit_registry as ureg\n",
    "\n",
    "# Dataset attributes\n",
    "\n",
    "IDENTIFIER = \"solid_2017\"\n",
    "DATA_URL = \"ftp://ftp.pmodwrc.ch/pub/projects/SOLID/database/composite_published/SOLID_1978_published/\"\n",
    "TITLE = \"SOLID solar irradiance composite spectrum (2017)\"\n",
    "INSTITUTION = \"Physikalisch-Meteorologisches Observatorium and World Radiation Center, Davos Dorf, Switzerland\"\n",
    "SOURCE = \"Combined original SSI observations from 20 different instruments\"\n",
    "REFERENCES = \"https://doi.org/10.1002/2016JA023492\"\n",
    "\n",
    "\n",
    "# Notebook configuration\n",
    "\n",
    "UPDATE_CACHE = False  # change to True to update the cache when running this notebook"
   ]
  },
  {
   "cell_type": "markdown",
   "metadata": {},
   "source": [
    "## Download"
   ]
  },
  {
   "cell_type": "code",
   "execution_count": null,
   "metadata": {},
   "outputs": [],
   "source": [
    "FILES = [\n",
    "    \"solid_0_100.nc\",\n",
    "    \"solid_100_100.nc\",\n",
    "    \"solid_200_100.nc\",\n",
    "    \"solid_300_100.nc\",\n",
    "    \"solid_400_100.nc\",\n",
    "    \"solid_500_100.nc\",\n",
    "    \"solid_600_100.nc\",\n",
    "    \"solid_700_100.nc\",\n",
    "    \"solid_800_100.nc\",\n",
    "    \"solid_900_100.nc\",\n",
    "    \"solid_1000_100.nc\",\n",
    "    \"solid_1100_100.nc\",\n",
    "    \"solid_1200_100.nc\",\n",
    "    \"solid_1300_100.nc\",\n",
    "    \"solid_1400_100.nc\",\n",
    "    \"solid_1500_100.nc\",\n",
    "    \"solid_1600_100.nc\",\n",
    "    \"solid_1700_100.nc\",\n",
    "    \"solid_1800_100.nc\",\n",
    "    \"solid_1900_100.nc\",\n",
    "]\n",
    "\n",
    "\n",
    "def download(url: str, path: t.Optional[os.PathLike] = None) -> None:\n",
    "    \"\"\"Download original data from url.\n",
    "\n",
    "    Args:\n",
    "        url: URL to download data from.\n",
    "        path: Path to save data to (must be a directory). If None, a temporary\n",
    "            directory is created and the raw data is saved there.\n",
    "    \"\"\"\n",
    "    if path is None:\n",
    "        tmpdir = tempfile.TemporaryDirectory()\n",
    "        path = pathlib.Path(tmpdir.name)\n",
    "    else:\n",
    "        path = pathlib.Path(path)\n",
    "        path.mkdir(parents=True, exist_ok=True)\n",
    "\n",
    "    # path must be a directory\n",
    "    if not path.is_dir():\n",
    "        raise ValueError(f\"Path must be a directory (got {path}).\")\n",
    "\n",
    "    for file in FILES:\n",
    "        with closing(urllib.request.urlopen(url + file)) as r:\n",
    "            with open(path / file, \"wb\") as f:\n",
    "                shutil.copyfileobj(r, f)"
   ]
  },
  {
   "cell_type": "markdown",
   "metadata": {},
   "source": [
    "## Format"
   ]
  },
  {
   "cell_type": "code",
   "execution_count": null,
   "metadata": {},
   "outputs": [],
   "source": [
    "import re\n",
    "\n",
    "\n",
    "def format_missing_carats_units(s: str) -> str:\n",
    "    \"\"\"Add missing carats to a malformed unit string.\n",
    "\n",
    "    Will format a string 'm-1' to 'm^-1'.\n",
    "\n",
    "    Args:\n",
    "        s: Unit string.\n",
    "\n",
    "    Returns:\n",
    "        Formatted unit string.\n",
    "    \"\"\"\n",
    "    where = [m.start() for m in re.finditer(\"[-+][0-9]\", s)]\n",
    "\n",
    "    for count, i in enumerate(where):\n",
    "        s = s[: i + count] + \"^\" + s[i + count :]\n",
    "\n",
    "    where2 = [m.start() for m in re.finditer(\"[a-z ][0-9]\", s)]\n",
    "\n",
    "    for count, i in enumerate(where2):\n",
    "        s = s[: i + count + 1] + \"^\" + s[i + count + 1 :]\n",
    "    return s\n",
    "\n",
    "\n",
    "def format(\n",
    "    data: os.PathLike,\n",
    "    path: t.Optional[os.PathLike] = None,\n",
    ") -> t.Optional[xr.Dataset]:\n",
    "    \"\"\"Format original data.\n",
    "\n",
    "    Args:\n",
    "        data: Path to original data directory.\n",
    "        path: Directory to save formatted data to. If None, the dataset is\n",
    "            returned\n",
    "\n",
    "    Returns:\n",
    "        Formatted data or None.\n",
    "    \"\"\"\n",
    "    datasets = [xr.open_dataset(file) for file in pathlib.Path(data).glob(\"*.nc\")]\n",
    "    merged = xr.merge(datasets)\n",
    "    end = date(2014, 12, 30)\n",
    "    start = end - timedelta(merged.time.size - 1)\n",
    "\n",
    "    ssi_magnitude = merged.data.values.transpose()\n",
    "    ssi_units = format_missing_carats_units(merged.data.attrs[\"units\"])\n",
    "    ssi = ssi_magnitude * ureg(ssi_units)\n",
    "    w = merged.wavelength.values * ureg(merged.wavelength.attrs[\"units\"])\n",
    "    t = pd.date_range(start, end, freq=\"D\")\n",
    "\n",
    "    ds = tengen.to_dataset(\n",
    "        w=w,\n",
    "        ssi=ssi,\n",
    "        data_url=DATA_URL,\n",
    "        t=t,\n",
    "        attrs={\n",
    "            \"title\": TITLE,\n",
    "            \"institution\": INSTITUTION,\n",
    "            \"source\": SOURCE,\n",
    "            \"references\": REFERENCES,\n",
    "            \"observation_period\": f\"{start} - {end}\",\n",
    "        },\n",
    "    )\n",
    "\n",
    "    if path is not None:\n",
    "        filename = f\"{IDENTIFIER}.nc\"\n",
    "        ds.to_netcdf(path / filename)\n",
    "    else:\n",
    "        return ds"
   ]
  },
  {
   "cell_type": "markdown",
   "metadata": {},
   "source": [
    "## Run"
   ]
  },
  {
   "cell_type": "code",
   "execution_count": null,
   "metadata": {},
   "outputs": [],
   "source": [
    "# (leave this cell as is)\n",
    "\n",
    "if UPDATE_CACHE:\n",
    "    original_data_dir = tengen.RAW_DATA_DIR / IDENTIFIER\n",
    "    original_data_dir.mkdir(parents=True, exist_ok=True)\n",
    "\n",
    "    download(url=DATA_URL, path=original_data_dir)\n",
    "\n",
    "    formatted_data_dir = tengen.FORMATTED_DATA_DIR / IDENTIFIER\n",
    "    formatted_data_dir.mkdir(parents=True, exist_ok=True)\n",
    "\n",
    "    format(data=original_data_dir, path=formatted_data_dir)\n",
    "\n",
    "else:\n",
    "    with tempfile.TemporaryDirectory() as tmpdir:\n",
    "        download(url=DATA_URL, path=tmpdir)\n",
    "        dataset = format(data=tmpdir, path=None)"
   ]
  }
 ],
 "metadata": {
  "kernelspec": {
   "display_name": "Python 3.8.13 ('tengen')",
   "language": "python",
   "name": "python3"
  },
  "language_info": {
   "codemirror_mode": {
    "name": "ipython",
    "version": 3
   },
   "file_extension": ".py",
   "mimetype": "text/x-python",
   "name": "python",
   "nbconvert_exporter": "python",
   "pygments_lexer": "ipython3",
   "version": "3.8.13"
  },
  "vscode": {
   "interpreter": {
    "hash": "2d2d83a8f2df0639f36d4cb071992b55f90f953abd83315b346d889f6b3fbf4f"
   }
  }
 },
 "nbformat": 4,
 "nbformat_minor": 2
}
